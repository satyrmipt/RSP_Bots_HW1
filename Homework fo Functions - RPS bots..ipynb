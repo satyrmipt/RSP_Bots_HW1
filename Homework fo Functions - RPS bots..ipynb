{
 "cells": [
  {
   "cell_type": "markdown",
   "id": "9ecb1aab",
   "metadata": {},
   "source": [
    "# 1) Установим окружение kaggle"
   ]
  },
  {
   "cell_type": "code",
   "execution_count": 3,
   "id": "c454f6e4",
   "metadata": {},
   "outputs": [],
   "source": [
    "!pip install -q -U kaggle_environments"
   ]
  },
  {
   "cell_type": "markdown",
   "id": "409d035c",
   "metadata": {},
   "source": [
    "# 2) Импортируем функцию запуска соревнования двух ботов"
   ]
  },
  {
   "cell_type": "code",
   "execution_count": 4,
   "id": "3dc02d5f",
   "metadata": {},
   "outputs": [],
   "source": [
    "from kaggle_environments import evaluate"
   ]
  },
  {
   "cell_type": "markdown",
   "id": "512c4b38",
   "metadata": {},
   "source": [
    "# 3) Боты"
   ]
  },
  {
   "cell_type": "markdown",
   "id": "e27d5ebb",
   "metadata": {},
   "source": [
    "## 3.1) Тривиальный бот \"всегда камень\" и \"всегда бумага\" (для тестов)"
   ]
  },
  {
   "cell_type": "code",
   "execution_count": 5,
   "id": "9e11b8fb",
   "metadata": {},
   "outputs": [
    {
     "name": "stdout",
     "output_type": "stream",
     "text": [
      "Overwriting rock_only_ag.py\n"
     ]
    }
   ],
   "source": [
    "%%writefile rock_only_ag.py\n",
    "\n",
    "#0 - камень 1 - бумага  2 - ножницы\n",
    "def rock_only_ag(observation, configuration):\n",
    "    # параметры не используются\n",
    "    return 0"
   ]
  },
  {
   "cell_type": "code",
   "execution_count": 67,
   "id": "1ba26431",
   "metadata": {},
   "outputs": [
    {
     "name": "stdout",
     "output_type": "stream",
     "text": [
      "Overwriting paper_only_ag.py\n"
     ]
    }
   ],
   "source": [
    "%%writefile paper_only_ag.py\n",
    "\n",
    "#0 - камень; 1 - бумага; 2 - ножницы\n",
    "def paper_only_ag(observation, configuration):\n",
    "    # параметры не используются\n",
    "    return 1"
   ]
  },
  {
   "cell_type": "markdown",
   "id": "8973535f",
   "metadata": {},
   "source": [
    "## 3.2) Тривиальный бот \"бумага или ножницы\""
   ]
  },
  {
   "cell_type": "code",
   "execution_count": 13,
   "id": "50765062",
   "metadata": {},
   "outputs": [
    {
     "name": "stdout",
     "output_type": "stream",
     "text": [
      "Overwriting paper_or_scissors_ag.py\n"
     ]
    }
   ],
   "source": [
    "%%writefile paper_or_scissors_ag.py\n",
    "\n",
    "#0 - камень 1 - бумага 2 - ножницы\n",
    "def paper_or_scissors_ag(observation, configuration):\n",
    "    # параметры не используются\n",
    "    import random as r\n",
    "    return r.randint(1,2)\n",
    "    \n",
    "#for i in range(1,20): print(paper_or_scissors_ag(1,1))"
   ]
  },
  {
   "cell_type": "markdown",
   "id": "680262a5",
   "metadata": {},
   "source": [
    "## 3.3) Тривиальный бот \"случайный бот\""
   ]
  },
  {
   "cell_type": "code",
   "execution_count": 17,
   "id": "b062550c",
   "metadata": {},
   "outputs": [
    {
     "name": "stdout",
     "output_type": "stream",
     "text": [
      "Overwriting random_ag.py\n"
     ]
    }
   ],
   "source": [
    "%%writefile random_ag.py\n",
    "\n",
    "#0 - камень 1 - бумага 2 - ножницы\n",
    "def random_ag(observation, configuration):\n",
    "    # параметры не используются\n",
    "    import random as r\n",
    "    return r.randint(0,2)\n",
    "\n",
    "#for i in range(1,20): print(random_ag(1,1))  "
   ]
  },
  {
   "cell_type": "markdown",
   "id": "33f138d2",
   "metadata": {},
   "source": [
    "## 3.3) Тривиальный бот \"homo sapiens\""
   ]
  },
  {
   "cell_type": "code",
   "execution_count": 48,
   "id": "a43c1052",
   "metadata": {},
   "outputs": [
    {
     "name": "stdout",
     "output_type": "stream",
     "text": [
      "Overwriting homo_sapiens_ag.py\n"
     ]
    }
   ],
   "source": [
    "%%writefile homo_sapiens_ag.py\n",
    "\n",
    "# данный бот реализует стратегию, которой подсознательно следует человек:\n",
    "# чаще обычного выбирает камень (44%), реже обычного выбирает ножницы (23%), с вероятностью 33% выбирает бумагу\n",
    "\n",
    "#0 - камень 1 - бумага 2 - ножницы\n",
    "def homo_sapiens_ag(observation, configuration):\n",
    "    # параметры не используются\n",
    "    import random as r\n",
    "    x = r.randint(1,100)\n",
    "    if x < 45:\n",
    "        return 0\n",
    "    elif x > 77:\n",
    "        return 2\n",
    "    else: \n",
    "        return 1\n",
    "## проверим, что вероятности распределены как мы задумывали:\n",
    "\n",
    "#rock, paper, scissor = 0, 0, 0\n",
    "#z = 1000\n",
    "#for i in range(1,z+1):\n",
    "#    x = homo_sapiens_ag(1,1)\n",
    "#    if x == 0: \n",
    "#        rock = rock + 1\n",
    "#    elif x == 1: \n",
    "#        paper = paper + 1\n",
    "#    else:\n",
    "#        scissor = scissor + 1\n",
    "#print(round(100*rock/z), round(100*paper/z), round(100*scissor/z))"
   ]
  },
  {
   "cell_type": "markdown",
   "id": "3af9ad46",
   "metadata": {},
   "source": [
    "## 3.4) Тривиальный бот \"Анти - homo sapiens\""
   ]
  },
  {
   "cell_type": "code",
   "execution_count": 47,
   "id": "31999994",
   "metadata": {},
   "outputs": [
    {
     "name": "stdout",
     "output_type": "stream",
     "text": [
      "Writing anti_homo_sapiens_ag.py\n"
     ]
    }
   ],
   "source": [
    "%%writefile anti_homo_sapiens_ag.py\n",
    "\n",
    "# данный бот реализует стратегию, направленную на победу при игре с homo sapiens\n",
    "# чаще обычного выбирает ножницы (44%), реже обычного выбирает камень (23%), с вероятностью 33% выбирает бумагу\n",
    "\n",
    "#0 - камень 1 - бумага 2 - ножницы\n",
    "def anti_homo_sapiens_ag(observation, configuration):\n",
    "    # параметры не используются\n",
    "    import random as r\n",
    "    x = r.randint(1,100)\n",
    "    if x < 45:\n",
    "        return 2\n",
    "    elif x > 77:\n",
    "        return 0\n",
    "    else: \n",
    "        return 1\n",
    "## проверим, что вероятности распределены как мы задумывали:\n",
    "\n",
    "#rock, paper, scissor = 0, 0, 0\n",
    "#z = 100000\n",
    "#for i in range(1,z+1):\n",
    "#    x = anti_homo_sapiens_ag(1,1)\n",
    "#    if x == 0: \n",
    "#        rock = rock + 1\n",
    "#    elif x == 1: \n",
    "#        paper = paper + 1\n",
    "#    else:\n",
    "#        scissor = scissor + 1\n",
    "#print(round(100*rock/z), round(100*paper/z), round(100*scissor/z))"
   ]
  },
  {
   "cell_type": "markdown",
   "id": "7cf8fbc9",
   "metadata": {},
   "source": [
    "# 3.5) Бот \"серийный рандом\" - не использовать, не готов"
   ]
  },
  {
   "cell_type": "code",
   "execution_count": 200,
   "id": "53e490a1",
   "metadata": {},
   "outputs": [
    {
     "name": "stdout",
     "output_type": "stream",
     "text": [
      "Overwriting random_series.py\n"
     ]
    }
   ],
   "source": [
    "%%writefile random_series.py\n",
    "\n",
    "# этот бот помнит свои предыдущие действия\n",
    "# бот выбирает два случайных числа\n",
    "#    x: от 1 до 3\n",
    "#    y: от 3 до 7\n",
    "# и выбрасывает (x-1) подряд y раз, потом снова выбрасывает два числа...\n",
    "\n",
    "#0 - камень 1 - бумага 2 - ножницы\n",
    "def random_series(observation, configuration):\n",
    "    # параметры не используются\n",
    "    import random as r\n",
    "    x = r.randint(1, 3)\n",
    "    y = r.randint(3, 7)\n",
    "    global serv_int\n",
    "    global serv_int1\n",
    "    # если это первый цикл или если предыдущий цикл закончился, то сохраняем параметры ближайших запусков\n",
    "    if serv_int1 == 1 or serv_int1 == 0:\n",
    "        serv_int = x # что возвращаем + 1\n",
    "        serv_int1 = y # сколько шагов к ряду возвращаем x-1\n",
    "        #print(serv_int-1, serv_int1 )\n",
    "        return serv_int-1\n",
    "    # если не первый цикл, значит serv_int уже определен, вывдем его, уменьшив число оставшихся шагов на 1\n",
    "    if serv_int1 != 1 and serv_int1 != 0:\n",
    "        serv_int1 = serv_int1 - 1\n",
    "        #print(serv_int-1, serv_int1 )\n",
    "        return serv_int-1\n",
    "    \n",
    "#random_series(1,1)\n"
   ]
  },
  {
   "cell_type": "code",
   "execution_count": 123,
   "id": "5b36dd12",
   "metadata": {},
   "outputs": [],
   "source": []
  },
  {
   "cell_type": "code",
   "execution_count": 199,
   "id": "cf222be5",
   "metadata": {},
   "outputs": [
    {
     "name": "stdout",
     "output_type": "stream",
     "text": [
      "-----------------------------------\n",
      "------------Full results-----------\n",
      "Fight count: 100\n",
      "Number of bots:6\n",
      "First agent - column name, second agent - row name:\n"
     ]
    },
    {
     "data": {
      "text/html": [
       "<div>\n",
       "<style scoped>\n",
       "    .dataframe tbody tr th:only-of-type {\n",
       "        vertical-align: middle;\n",
       "    }\n",
       "\n",
       "    .dataframe tbody tr th {\n",
       "        vertical-align: top;\n",
       "    }\n",
       "\n",
       "    .dataframe thead th {\n",
       "        text-align: right;\n",
       "    }\n",
       "</style>\n",
       "<table border=\"1\" class=\"dataframe\">\n",
       "  <thead>\n",
       "    <tr style=\"text-align: right;\">\n",
       "      <th></th>\n",
       "      <th>rock_only_ag</th>\n",
       "      <th>paper_only_ag</th>\n",
       "      <th>paper_or_scissors_ag</th>\n",
       "      <th>random_ag</th>\n",
       "      <th>homo_sapiens_ag</th>\n",
       "      <th>anti_homo_sapiens_ag</th>\n",
       "    </tr>\n",
       "  </thead>\n",
       "  <tbody>\n",
       "    <tr>\n",
       "      <th>rock_only_ag</th>\n",
       "      <td>[0, 0]</td>\n",
       "      <td>[100.0, -100.0]</td>\n",
       "      <td>[0, 0]</td>\n",
       "      <td>[8.0, -8.0]</td>\n",
       "      <td>[3.0, -3.0]</td>\n",
       "      <td>[-13.0, 13.0]</td>\n",
       "    </tr>\n",
       "    <tr>\n",
       "      <th>paper_only_ag</th>\n",
       "      <td>[-100.0, 100.0]</td>\n",
       "      <td>[0, 0]</td>\n",
       "      <td>[51.0, -51.0]</td>\n",
       "      <td>[1.0, -1.0]</td>\n",
       "      <td>[-22.0, 22.0]</td>\n",
       "      <td>[15.0, -15.0]</td>\n",
       "    </tr>\n",
       "    <tr>\n",
       "      <th>paper_or_scissors_ag</th>\n",
       "      <td>[4.0, -4.0]</td>\n",
       "      <td>[-49.0, 49.0]</td>\n",
       "      <td>[5.0, -5.0]</td>\n",
       "      <td>[-3.0, 3.0]</td>\n",
       "      <td>[-19.0, 19.0]</td>\n",
       "      <td>[16.0, -16.0]</td>\n",
       "    </tr>\n",
       "    <tr>\n",
       "      <th>random_ag</th>\n",
       "      <td>[8.0, -8.0]</td>\n",
       "      <td>[-1.0, 1.0]</td>\n",
       "      <td>[0, 0]</td>\n",
       "      <td>[-10.0, 10.0]</td>\n",
       "      <td>[7.0, -7.0]</td>\n",
       "      <td>[-1.0, 1.0]</td>\n",
       "    </tr>\n",
       "    <tr>\n",
       "      <th>homo_sapiens_ag</th>\n",
       "      <td>[-3.0, 3.0]</td>\n",
       "      <td>[17.0, -17.0]</td>\n",
       "      <td>[5.0, -5.0]</td>\n",
       "      <td>[-3.0, 3.0]</td>\n",
       "      <td>[-2.0, 2.0]</td>\n",
       "      <td>[2.0, -2.0]</td>\n",
       "    </tr>\n",
       "    <tr>\n",
       "      <th>anti_homo_sapiens_ag</th>\n",
       "      <td>[21.0, -21.0]</td>\n",
       "      <td>[-8.0, 8.0]</td>\n",
       "      <td>[-7.0, 7.0]</td>\n",
       "      <td>[1.0, -1.0]</td>\n",
       "      <td>[6.0, -6.0]</td>\n",
       "      <td>[-4.0, 4.0]</td>\n",
       "    </tr>\n",
       "  </tbody>\n",
       "</table>\n",
       "</div>"
      ],
      "text/plain": [
       "                         rock_only_ag    paper_only_ag paper_or_scissors_ag  \\\n",
       "rock_only_ag                   [0, 0]  [100.0, -100.0]               [0, 0]   \n",
       "paper_only_ag         [-100.0, 100.0]           [0, 0]        [51.0, -51.0]   \n",
       "paper_or_scissors_ag      [4.0, -4.0]    [-49.0, 49.0]          [5.0, -5.0]   \n",
       "random_ag                 [8.0, -8.0]      [-1.0, 1.0]               [0, 0]   \n",
       "homo_sapiens_ag           [-3.0, 3.0]    [17.0, -17.0]          [5.0, -5.0]   \n",
       "anti_homo_sapiens_ag    [21.0, -21.0]      [-8.0, 8.0]          [-7.0, 7.0]   \n",
       "\n",
       "                          random_ag homo_sapiens_ag anti_homo_sapiens_ag  \n",
       "rock_only_ag            [8.0, -8.0]     [3.0, -3.0]        [-13.0, 13.0]  \n",
       "paper_only_ag           [1.0, -1.0]   [-22.0, 22.0]        [15.0, -15.0]  \n",
       "paper_or_scissors_ag    [-3.0, 3.0]   [-19.0, 19.0]        [16.0, -16.0]  \n",
       "random_ag             [-10.0, 10.0]     [7.0, -7.0]          [-1.0, 1.0]  \n",
       "homo_sapiens_ag         [-3.0, 3.0]     [-2.0, 2.0]          [2.0, -2.0]  \n",
       "anti_homo_sapiens_ag    [1.0, -1.0]     [6.0, -6.0]          [-4.0, 4.0]  "
      ]
     },
     "metadata": {},
     "output_type": "display_data"
    },
    {
     "name": "stdout",
     "output_type": "stream",
     "text": [
      "-----------------------------------\n",
      "------------Short results-----------\n",
      "Fight count: 100\n",
      "Number of bots:6\n",
      "Values in table show number figts first agent (column name) win (>0) or lose (<0) with second agent (row name).Zero means they are equally strong.\n"
     ]
    },
    {
     "data": {
      "text/html": [
       "<div>\n",
       "<style scoped>\n",
       "    .dataframe tbody tr th:only-of-type {\n",
       "        vertical-align: middle;\n",
       "    }\n",
       "\n",
       "    .dataframe tbody tr th {\n",
       "        vertical-align: top;\n",
       "    }\n",
       "\n",
       "    .dataframe thead th {\n",
       "        text-align: right;\n",
       "    }\n",
       "</style>\n",
       "<table border=\"1\" class=\"dataframe\">\n",
       "  <thead>\n",
       "    <tr style=\"text-align: right;\">\n",
       "      <th></th>\n",
       "      <th>rock_only_ag</th>\n",
       "      <th>paper_only_ag</th>\n",
       "      <th>paper_or_scissors_ag</th>\n",
       "      <th>random_ag</th>\n",
       "      <th>homo_sapiens_ag</th>\n",
       "      <th>anti_homo_sapiens_ag</th>\n",
       "    </tr>\n",
       "  </thead>\n",
       "  <tbody>\n",
       "    <tr>\n",
       "      <th>rock_only_ag</th>\n",
       "      <td>0.0</td>\n",
       "      <td>100.0</td>\n",
       "      <td>0.0</td>\n",
       "      <td>8.0</td>\n",
       "      <td>3.0</td>\n",
       "      <td>-13.0</td>\n",
       "    </tr>\n",
       "    <tr>\n",
       "      <th>paper_only_ag</th>\n",
       "      <td>-100.0</td>\n",
       "      <td>0.0</td>\n",
       "      <td>51.0</td>\n",
       "      <td>1.0</td>\n",
       "      <td>-22.0</td>\n",
       "      <td>15.0</td>\n",
       "    </tr>\n",
       "    <tr>\n",
       "      <th>paper_or_scissors_ag</th>\n",
       "      <td>4.0</td>\n",
       "      <td>-49.0</td>\n",
       "      <td>5.0</td>\n",
       "      <td>-3.0</td>\n",
       "      <td>-19.0</td>\n",
       "      <td>16.0</td>\n",
       "    </tr>\n",
       "    <tr>\n",
       "      <th>random_ag</th>\n",
       "      <td>8.0</td>\n",
       "      <td>-1.0</td>\n",
       "      <td>0.0</td>\n",
       "      <td>-10.0</td>\n",
       "      <td>7.0</td>\n",
       "      <td>-1.0</td>\n",
       "    </tr>\n",
       "    <tr>\n",
       "      <th>homo_sapiens_ag</th>\n",
       "      <td>-3.0</td>\n",
       "      <td>17.0</td>\n",
       "      <td>5.0</td>\n",
       "      <td>-3.0</td>\n",
       "      <td>-2.0</td>\n",
       "      <td>2.0</td>\n",
       "    </tr>\n",
       "    <tr>\n",
       "      <th>anti_homo_sapiens_ag</th>\n",
       "      <td>21.0</td>\n",
       "      <td>-8.0</td>\n",
       "      <td>-7.0</td>\n",
       "      <td>1.0</td>\n",
       "      <td>6.0</td>\n",
       "      <td>-4.0</td>\n",
       "    </tr>\n",
       "  </tbody>\n",
       "</table>\n",
       "</div>"
      ],
      "text/plain": [
       "                      rock_only_ag  paper_only_ag  paper_or_scissors_ag  \\\n",
       "rock_only_ag                   0.0          100.0                   0.0   \n",
       "paper_only_ag               -100.0            0.0                  51.0   \n",
       "paper_or_scissors_ag           4.0          -49.0                   5.0   \n",
       "random_ag                      8.0           -1.0                   0.0   \n",
       "homo_sapiens_ag               -3.0           17.0                   5.0   \n",
       "anti_homo_sapiens_ag          21.0           -8.0                  -7.0   \n",
       "\n",
       "                      random_ag  homo_sapiens_ag  anti_homo_sapiens_ag  \n",
       "rock_only_ag                8.0              3.0                 -13.0  \n",
       "paper_only_ag               1.0            -22.0                  15.0  \n",
       "paper_or_scissors_ag       -3.0            -19.0                  16.0  \n",
       "random_ag                 -10.0              7.0                  -1.0  \n",
       "homo_sapiens_ag            -3.0             -2.0                   2.0  \n",
       "anti_homo_sapiens_ag        1.0              6.0                  -4.0  "
      ]
     },
     "metadata": {},
     "output_type": "display_data"
    }
   ],
   "source": [
    "import pandas as pd \n",
    "\n",
    "# схватку ботов оформим функцией:\n",
    "def eval_agents(rew_threshld=1, step_num=2, ag_1='', ag_2=''):\n",
    "\n",
    "    x = evaluate(\n",
    "    configuration = {'tieRewardThreshold': rew_threshld, 'episodeSteps':step_num + 1 },\n",
    "    environment = \"rps\", #выбираем окружение КНБ\n",
    "    agents = [ag_1 + '.py', ag_2 + '.py']\n",
    "    ) \n",
    "    return x\n",
    "\n",
    "# определим параметры битвы ботов\n",
    "steps = 100 # сколько шагов в одной серии\n",
    "rewardthreshold = 1 # сколько раз нужно победить, чтобы получить 1 очко\n",
    "\n",
    "# создадим массив всех наших ботов\n",
    "ag_list = ['rock_only_ag','paper_only_ag','paper_or_scissors_ag', 'random_ag','homo_sapiens_ag','anti_homo_sapiens_ag']\n",
    "\n",
    "# запускаем схватку всех ботов со всеми и формируем датафрейм с результатами\n",
    "\n",
    "# полный списко результатов\n",
    "res_dict = {}\n",
    "for i in ag_list: # это колонки таблицы, первый агент в колонках.\n",
    "    res_dict[i] = list()\n",
    "    for j in ag_list: # это строки таблицы, второй агент в индексе строк\n",
    "        res_dict[i] = res_dict[i] + eval_agents(rewardthreshold, steps, i, j )\n",
    "        \n",
    "# сокращенный списко результатов        \n",
    "res_short_dict = {}\n",
    "for x in res_dict:\n",
    "    ag_res_list = []\n",
    "    for y in res_dict[x]:\n",
    "        ag_res_list = ag_res_list +  [y[0]]\n",
    "    res_short_dict[x] = ag_res_list\n",
    "\n",
    "\n",
    "## Выводим результат в двух вариантах:\n",
    "\n",
    "df_res = pd.DataFrame(res_dict, index = ag_list)\n",
    "print('-----------------------------------')\n",
    "print('------------Full results-----------')\n",
    "print('Fight count: ' + str(steps))\n",
    "print('Number of bots:' + str(len(ag_list)))\n",
    "print('First agent - column name, second agent - row name:')\n",
    "display(df_res)\n",
    "\n",
    "df_short_res = pd.DataFrame(res_short_dict, index = ag_list)\n",
    "print('-----------------------------------')\n",
    "print('------------Short results-----------')\n",
    "print('Fight count: ' + str(steps))\n",
    "print('Number of bots:' + str(len(ag_list)))\n",
    "print('Values in table show number figts first agent (column name) win (>0) or lose (<0) with second agent (row name).\\\n",
    "Zero means they are equally strong.')\n",
    "display(df_short_res)\n",
    "\n"
   ]
  },
  {
   "cell_type": "code",
   "execution_count": null,
   "id": "1eb61de1",
   "metadata": {},
   "outputs": [],
   "source": []
  },
  {
   "cell_type": "code",
   "execution_count": null,
   "id": "66b7e4e0",
   "metadata": {},
   "outputs": [],
   "source": []
  },
  {
   "cell_type": "code",
   "execution_count": null,
   "id": "e8562e13",
   "metadata": {},
   "outputs": [],
   "source": [
    "    \n",
    "    #in case we have information about opponent last move\n",
    "   # if observation.step > 0:\n",
    "    #    return observation.lastOpponentAction\n",
    "    #initial step\n",
    "   # else:\n",
    "    #    return random.randrange(0, configuration.signs)\n",
    "    "
   ]
  },
  {
   "cell_type": "code",
   "execution_count": 71,
   "id": "82c2039c",
   "metadata": {},
   "outputs": [
    {
     "name": "stdout",
     "output_type": "stream",
     "text": [
      "[[0, 0]]\n",
      "[[0, 0]]\n",
      "[[0, 0]]\n",
      "[[0, 0]]\n",
      "[[0, 0]]\n",
      "[[0, 0]]\n",
      "[[0, 0]]\n",
      "[[0, 0]]\n",
      "[[0, 0]]\n",
      "[[0, 0]]\n",
      "[[0, 0]]\n",
      "[[0, 0]]\n",
      "[[0, 0]]\n",
      "[[0, 0]]\n",
      "[[0, 0]]\n",
      "[[0, 0]]\n",
      "[[0, 0]]\n",
      "[[0, 0]]\n",
      "[[0, 0]]\n",
      "[[-20.0, 20.0]]\n",
      "[[-21.0, 21.0]]\n",
      "[[-22.0, 22.0]]\n",
      "[[-23.0, 23.0]]\n",
      "[[-24.0, 24.0]]\n",
      "[[-25.0, 25.0]]\n",
      "[[-26.0, 26.0]]\n",
      "[[-27.0, 27.0]]\n",
      "[[-28.0, 28.0]]\n",
      "[[-29.0, 29.0]]\n",
      "[[-30.0, 30.0]]\n",
      "[[-31.0, 31.0]]\n",
      "[[-32.0, 32.0]]\n",
      "[[-33.0, 33.0]]\n",
      "[[-34.0, 34.0]]\n",
      "[[-35.0, 35.0]]\n",
      "[[-36.0, 36.0]]\n",
      "[[-37.0, 37.0]]\n",
      "[[-38.0, 38.0]]\n",
      "[[-39.0, 39.0]]\n",
      "[[-40.0, 40.0]]\n",
      "[[-41.0, 41.0]]\n",
      "[[-42.0, 42.0]]\n",
      "[[-43.0, 43.0]]\n",
      "[[-44.0, 44.0]]\n",
      "[[-45.0, 45.0]]\n",
      "[[-46.0, 46.0]]\n",
      "[[-47.0, 47.0]]\n",
      "[[-48.0, 48.0]]\n",
      "[[-49.0, 49.0]]\n",
      "[[-50.0, 50.0]]\n",
      "[[-51.0, 51.0]]\n",
      "[[-52.0, 52.0]]\n",
      "[[-53.0, 53.0]]\n",
      "[[-54.0, 54.0]]\n",
      "[[-55.0, 55.0]]\n",
      "[[-56.0, 56.0]]\n",
      "[[-57.0, 57.0]]\n",
      "[[-58.0, 58.0]]\n",
      "[[-59.0, 59.0]]\n",
      "[[-60.0, 60.0]]\n",
      "[[-61.0, 61.0]]\n",
      "[[-62.0, 62.0]]\n",
      "[[-63.0, 63.0]]\n",
      "[[-64.0, 64.0]]\n",
      "[[-65.0, 65.0]]\n",
      "[[-66.0, 66.0]]\n",
      "[[-67.0, 67.0]]\n",
      "[[-68.0, 68.0]]\n",
      "[[-69.0, 69.0]]\n",
      "[[-70.0, 70.0]]\n",
      "[[-71.0, 71.0]]\n",
      "[[-72.0, 72.0]]\n",
      "[[-73.0, 73.0]]\n",
      "[[-74.0, 74.0]]\n",
      "[[-75.0, 75.0]]\n",
      "[[-76.0, 76.0]]\n",
      "[[-77.0, 77.0]]\n",
      "[[-78.0, 78.0]]\n",
      "[[-79.0, 79.0]]\n",
      "[[-80.0, 80.0]]\n",
      "[[-81.0, 81.0]]\n",
      "[[-82.0, 82.0]]\n",
      "[[-83.0, 83.0]]\n",
      "[[-84.0, 84.0]]\n",
      "[[-85.0, 85.0]]\n",
      "[[-86.0, 86.0]]\n",
      "[[-87.0, 87.0]]\n",
      "[[-88.0, 88.0]]\n",
      "[[-89.0, 89.0]]\n",
      "[[-90.0, 90.0]]\n",
      "[[-91.0, 91.0]]\n",
      "[[-92.0, 92.0]]\n",
      "[[-93.0, 93.0]]\n",
      "[[-94.0, 94.0]]\n",
      "[[-95.0, 95.0]]\n",
      "[[-96.0, 96.0]]\n",
      "[[-97.0, 97.0]]\n",
      "[[-98.0, 98.0]]\n"
     ]
    }
   ],
   "source": [
    "import numpy as np\n",
    "import pandas as pd\n",
    "import random as rn\n",
    "\n",
    "#import matplotlib.pyplot as plt\n",
    "#import seaborn as sns\n",
    "\n",
    "from kaggle_environments import make, evaluate\n",
    "\n",
    "for i in range(2,100):\n",
    "    conf = {\"episodeSteps\": i}\n",
    "    print(\n",
    "            evaluate(\n",
    "                \"rps\", #environment to use - no need to change\n",
    "                [\"rock_only_ag.py\", \"paper_only_ag.py\"], #первый агент всегда камень, второй всегда бумага\n",
    "                configuration=conf\n",
    "            )\n",
    "    )\n"
   ]
  }
 ],
 "metadata": {
  "kernelspec": {
   "display_name": "Python 3 (ipykernel)",
   "language": "python",
   "name": "python3"
  },
  "language_info": {
   "codemirror_mode": {
    "name": "ipython",
    "version": 3
   },
   "file_extension": ".py",
   "mimetype": "text/x-python",
   "name": "python",
   "nbconvert_exporter": "python",
   "pygments_lexer": "ipython3",
   "version": "3.9.12"
  }
 },
 "nbformat": 4,
 "nbformat_minor": 5
}
